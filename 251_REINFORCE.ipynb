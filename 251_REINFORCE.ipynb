{
  "cells": [
    {
      "cell_type": "markdown",
      "id": "b961f69b",
      "metadata": {
        "id": "b961f69b"
      },
      "source": [
        "# 251. REINFORCE Algorithm\n",
        "\n",
        "- Monte-Carlo method를 통해 구한 episodic sample 의 estimated return을 이용하여 policy parameter 𝜃를 update해 나가는 기법\n",
        "\n",
        "- REINFORCE 갱신 규칙\n",
        "\n",
        "$$\\Delta\\theta_t = \\alpha\\nabla_\\theta\\log{\\pi_\\theta}(s, a)G_t$$\n",
        "\n",
        "- 따라서, Loss function 은\n",
        "$$-G_t\\log{\\pi_\\theta}(s, a)$$\n",
        "\n",
        "```\n",
        "                log_prob = torch.log(pi(state_tensor))\n",
        "                selected_log_probs = reward_tensor * \\\n",
        "                        torch.gather(log_prob, 1, action_tensor.unsqueeze(1)).squeeze()\n",
        "                loss = -1 * selected_log_probs.mean()\n",
        "```"
      ]
    },
    {
      "cell_type": "code",
      "execution_count": 1,
      "id": "66LOQ1jzfjux",
      "metadata": {
        "id": "66LOQ1jzfjux",
        "colab": {
          "base_uri": "https://localhost:8080/"
        },
        "outputId": "e93c1efa-f64f-45b0-96e2-b30a9c92fded"
      },
      "outputs": [
        {
          "output_type": "stream",
          "name": "stdout",
          "text": [
            "Reading package lists... Done\n",
            "Building dependency tree... Done\n",
            "Reading state information... Done\n",
            "swig is already the newest version (4.0.2-1ubuntu1).\n",
            "0 upgraded, 0 newly installed, 0 to remove and 45 not upgraded.\n",
            "Requirement already satisfied: gym[box2d] in /usr/local/lib/python3.10/dist-packages (0.25.2)\n",
            "Requirement already satisfied: numpy>=1.18.0 in /usr/local/lib/python3.10/dist-packages (from gym[box2d]) (1.26.4)\n",
            "Requirement already satisfied: cloudpickle>=1.2.0 in /usr/local/lib/python3.10/dist-packages (from gym[box2d]) (2.2.1)\n",
            "Requirement already satisfied: gym-notices>=0.0.4 in /usr/local/lib/python3.10/dist-packages (from gym[box2d]) (0.0.8)\n",
            "Requirement already satisfied: box2d-py==2.3.5 in /usr/local/lib/python3.10/dist-packages (from gym[box2d]) (2.3.5)\n",
            "Requirement already satisfied: pygame==2.1.0 in /usr/local/lib/python3.10/dist-packages (from gym[box2d]) (2.1.0)\n",
            "Requirement already satisfied: swig==4.* in /usr/local/lib/python3.10/dist-packages (from gym[box2d]) (4.2.1)\n"
          ]
        }
      ],
      "source": [
        "!apt-get install swig\n",
        "\n",
        "!pip install gym[box2d]\n",
        "\n",
        "# # install dependencies needed for recording videos\n",
        "!apt-get install -y xvfb x11-utils > tmp\n",
        "!pip install -q pyvirtualdisplay==0.2.*"
      ]
    },
    {
      "cell_type": "code",
      "execution_count": 2,
      "id": "zttSufFHftAs",
      "metadata": {
        "id": "zttSufFHftAs"
      },
      "outputs": [],
      "source": [
        "from IPython import display\n",
        "from IPython.display import HTML\n",
        "from pyvirtualdisplay import Display\n",
        "from gym.wrappers.monitoring.video_recorder import VideoRecorder\n",
        "from base64 import b64encode"
      ]
    },
    {
      "cell_type": "code",
      "execution_count": 3,
      "id": "dab7945e",
      "metadata": {
        "colab": {
          "base_uri": "https://localhost:8080/"
        },
        "id": "dab7945e",
        "outputId": "94e53b4d-0cbe-405a-c88f-7d2579adfde3"
      },
      "outputs": [
        {
          "output_type": "stream",
          "name": "stderr",
          "text": [
            "/usr/local/lib/python3.10/dist-packages/ipykernel/ipkernel.py:283: DeprecationWarning: `should_run_async` will not call `transform_cell` automatically in the future. Please pass the result to `transformed_cell` argument and any exception that happen during thetransform in `preprocessing_exc_tuple` in IPython 7.17 and above.\n",
            "  and should_run_async(code)\n"
          ]
        },
        {
          "output_type": "stream",
          "name": "stdout",
          "text": [
            "cuda:0\n"
          ]
        }
      ],
      "source": [
        "import gym\n",
        "import matplotlib.pyplot as plt\n",
        "from IPython import display\n",
        "import numpy as np\n",
        "import torch\n",
        "import torch.nn as nn\n",
        "import torch.nn.functional as F\n",
        "import torch.optim as optim\n",
        "from torch.distributions import Categorical;\n",
        "import time\n",
        "import os\n",
        "\n",
        "device = torch.device('cuda:0' if torch.cuda.is_available() else 'cpu')\n",
        "print(device)"
      ]
    },
    {
      "cell_type": "markdown",
      "id": "qCER-H6cO7Rh",
      "metadata": {
        "id": "qCER-H6cO7Rh"
      },
      "source": [
        "<img src=\"https://miro.medium.com/max/1400/1*4RncZNj1ij5A5eMJpexhrw.png\" width=700/>"
      ]
    },
    {
      "cell_type": "markdown",
      "id": "6814aa4c",
      "metadata": {
        "id": "6814aa4c"
      },
      "source": [
        "### 환경 초기화"
      ]
    },
    {
      "cell_type": "code",
      "execution_count": 4,
      "id": "lcYqBBfaQ_N5",
      "metadata": {
        "colab": {
          "base_uri": "https://localhost:8080/"
        },
        "id": "lcYqBBfaQ_N5",
        "outputId": "d77af8c8-62f1-43db-9ce4-e088a5436eea"
      },
      "outputs": [
        {
          "output_type": "stream",
          "name": "stdout",
          "text": [
            "[0 1]\n",
            "(4,) 2\n"
          ]
        },
        {
          "output_type": "stream",
          "name": "stderr",
          "text": [
            "/usr/local/lib/python3.10/dist-packages/ipykernel/ipkernel.py:283: DeprecationWarning: `should_run_async` will not call `transform_cell` automatically in the future. Please pass the result to `transformed_cell` argument and any exception that happen during thetransform in `preprocessing_exc_tuple` in IPython 7.17 and above.\n",
            "  and should_run_async(code)\n",
            "/usr/local/lib/python3.10/dist-packages/gym/core.py:317: DeprecationWarning: \u001b[33mWARN: Initializing wrapper in old step API which returns one bool instead of two. It is recommended to set `new_step_api=True` to use new step API. This will be the default behaviour in future.\u001b[0m\n",
            "  deprecation(\n",
            "/usr/local/lib/python3.10/dist-packages/gym/wrappers/step_api_compatibility.py:39: DeprecationWarning: \u001b[33mWARN: Initializing environment in old step API which returns one bool instead of two. It is recommended to set `new_step_api=True` to use new step API. This will be the default behaviour in future.\u001b[0m\n",
            "  deprecation(\n"
          ]
        }
      ],
      "source": [
        "#env = gym.make('LunarLander-v2')\n",
        "env = gym.make('CartPole-v1')\n",
        "\n",
        "action_space = np.arange(env.action_space.n)\n",
        "print(action_space)\n",
        "print(env.observation_space.shape, env.action_space.n)"
      ]
    },
    {
      "cell_type": "markdown",
      "id": "420cc627",
      "metadata": {
        "id": "420cc627"
      },
      "source": [
        "### Policy Network 생성"
      ]
    },
    {
      "cell_type": "code",
      "execution_count": 5,
      "id": "31JBeBI4Q8Ye",
      "metadata": {
        "colab": {
          "base_uri": "https://localhost:8080/"
        },
        "id": "31JBeBI4Q8Ye",
        "outputId": "835502bf-ad3e-434d-91a3-c58aa92a0372"
      },
      "outputs": [
        {
          "output_type": "execute_result",
          "data": {
            "text/plain": [
              "PolicyNetwork(\n",
              "  (fc1): Linear(in_features=4, out_features=128, bias=True)\n",
              "  (fc2): Linear(in_features=128, out_features=64, bias=True)\n",
              "  (fc3): Linear(in_features=64, out_features=2, bias=True)\n",
              ")"
            ]
          },
          "metadata": {},
          "execution_count": 5
        }
      ],
      "source": [
        "# A differentiable policy parameterization pi(a|s,theta)\n",
        "class PolicyNetwork(nn.Module):\n",
        "    def __init__(self, input_dims, n_actions):\n",
        "        super(PolicyNetwork, self).__init__()\n",
        "        self.fc1 = nn.Linear(*input_dims, 128)\n",
        "        self.fc2 = nn.Linear(128, 64)\n",
        "        self.fc3 = nn.Linear(64, n_actions)\n",
        "\n",
        "    def forward(self, state):\n",
        "        x = F.relu(self.fc1(state))\n",
        "        x = F.relu(self.fc2(x))\n",
        "        prob = F.softmax(self.fc3(x), dim=-1)\n",
        "        return prob\n",
        "\n",
        "#Initialize the parameters theta\n",
        "pi = PolicyNetwork(input_dims=env.observation_space.shape,\n",
        "                              n_actions=env.action_space.n).to(device)\n",
        "pi"
      ]
    },
    {
      "cell_type": "markdown",
      "id": "0cce56db",
      "metadata": {
        "id": "0cce56db"
      },
      "source": [
        "### hyper-parameters 설정, reward 계산 도우미 함수 생성"
      ]
    },
    {
      "cell_type": "code",
      "execution_count": 6,
      "id": "5mlis98IThmm",
      "metadata": {
        "id": "5mlis98IThmm"
      },
      "outputs": [],
      "source": [
        "#Select step-size parameters 0<alpha<1\n",
        "alpha = 0.001\n",
        "#Choose discount rate 0<gamma<1\n",
        "gamma = 0.99\n",
        "#Chose max number of episodes N\n",
        "N = 10_000\n",
        "# Choose number of episodes to batch together for an update K >= 1\n",
        "batch_size = 32\n",
        "\n",
        "optimizer = optim.Adam(pi.parameters(), lr=alpha)\n",
        "\n",
        "# rendering = True\n",
        "total_rewards = []\n",
        "\n",
        "def discount_rewards(rewards):\n",
        "    Returns = []\n",
        "    G = 0\n",
        "    for r in rewards[::-1]:\n",
        "        G = r + gamma * G\n",
        "        Returns.append(G)\n",
        "    # cumsum의 배열 방향을 반대로 한 다음 원래 순서로 되돌립니다.\n",
        "    Returns = np.array(Returns[::-1], dtype=np.float64)\n",
        "    # return Returns - Returns.mean()\n",
        "    return Returns"
      ]
    },
    {
      "cell_type": "markdown",
      "id": "48d9655c",
      "metadata": {
        "id": "48d9655c"
      },
      "source": [
        "### main algorithm 작성 / Train\n",
        "- `CartPole-v0`의 경우 train 약 10 분 소요\n",
        "- `LunarLander-v2` 의 경우 train 시간 약 1 시간 소요\n",
        "- 시간 부족할 경우 이미 훈련된  `251_REINFORCE_LunarLander-V2.pth` 를 load 하여 시각화 Test"
      ]
    },
    {
      "cell_type": "code",
      "execution_count": 7,
      "id": "b6a699c1",
      "metadata": {
        "colab": {
          "base_uri": "https://localhost:8080/"
        },
        "id": "b6a699c1",
        "outputId": "783d9a5d-8578-4df7-a7ca-abf473e06377",
        "scrolled": false
      },
      "outputs": [
        {
          "output_type": "stream",
          "name": "stderr",
          "text": [
            "/usr/local/lib/python3.10/dist-packages/ipykernel/ipkernel.py:283: DeprecationWarning: `should_run_async` will not call `transform_cell` automatically in the future. Please pass the result to `transformed_cell` argument and any exception that happen during thetransform in `preprocessing_exc_tuple` in IPython 7.17 and above.\n",
            "  and should_run_async(code)\n",
            "/usr/local/lib/python3.10/dist-packages/gym/utils/passive_env_checker.py:241: DeprecationWarning: `np.bool8` is a deprecated alias for `np.bool_`.  (Deprecated NumPy 1.24)\n",
            "  if not isinstance(terminated, (bool, np.bool8)):\n"
          ]
        },
        {
          "output_type": "stream",
          "name": "stdout",
          "text": [
            "episode 0,  최근 100 episode 평균 reward  25.00\n"
          ]
        },
        {
          "output_type": "stream",
          "name": "stderr",
          "text": [
            "<ipython-input-7-afa63ce721d8>:45: UserWarning: Creating a tensor from a list of numpy.ndarrays is extremely slow. Please consider converting the list to a single numpy.ndarray with numpy.array() before converting to a tensor. (Triggered internally at ../torch/csrc/utils/tensor_new.cpp:274.)\n",
            "  state_tensor = torch.FloatTensor(batch_states).to(device)\n"
          ]
        },
        {
          "output_type": "stream",
          "name": "stdout",
          "text": [
            "episode 100,  최근 100 episode 평균 reward  20.92\n",
            "episode 200,  최근 100 episode 평균 reward  23.07\n",
            "episode 300,  최근 100 episode 평균 reward  24.77\n",
            "episode 400,  최근 100 episode 평균 reward  28.26\n",
            "episode 500,  최근 100 episode 평균 reward  28.26\n",
            "episode 600,  최근 100 episode 평균 reward  30.90\n",
            "episode 700,  최근 100 episode 평균 reward  34.11\n",
            "episode 800,  최근 100 episode 평균 reward  42.70\n",
            "episode 900,  최근 100 episode 평균 reward  47.80\n",
            "episode 1000,  최근 100 episode 평균 reward  53.88\n",
            "episode 1100,  최근 100 episode 평균 reward  71.79\n",
            "episode 1200,  최근 100 episode 평균 reward  78.08\n",
            "episode 1300,  최근 100 episode 평균 reward  102.29\n",
            "episode 1400,  최근 100 episode 평균 reward  130.69\n",
            "episode 1500,  최근 100 episode 평균 reward  170.17\n",
            "episode 1600,  최근 100 episode 평균 reward  201.37\n",
            "episode 1700,  최근 100 episode 평균 reward  224.21\n",
            "episode 1800,  최근 100 episode 평균 reward  245.99\n",
            "episode 1900,  최근 100 episode 평균 reward  267.58\n",
            "episode 2000,  최근 100 episode 평균 reward  307.19\n",
            "episode 2100,  최근 100 episode 평균 reward  332.46\n",
            "episode 2200,  최근 100 episode 평균 reward  339.44\n",
            "episode 2300,  최근 100 episode 평균 reward  358.21\n",
            "episode 2400,  최근 100 episode 평균 reward  332.25\n",
            "episode 2500,  최근 100 episode 평균 reward  364.46\n",
            "episode 2600,  최근 100 episode 평균 reward  345.37\n",
            "episode 2700,  최근 100 episode 평균 reward  408.62\n",
            "episode 2800,  최근 100 episode 평균 reward  391.09\n",
            "episode 2900,  최근 100 episode 평균 reward  369.14\n",
            "episode 3000,  최근 100 episode 평균 reward  390.53\n",
            "episode 3100,  최근 100 episode 평균 reward  454.01\n",
            "episode 3200,  최근 100 episode 평균 reward  412.76\n",
            "episode 3300,  최근 100 episode 평균 reward  361.89\n",
            "episode 3400,  최근 100 episode 평균 reward  429.67\n",
            "episode 3500,  최근 100 episode 평균 reward  437.04\n",
            "episode 3600,  최근 100 episode 평균 reward  462.09\n",
            "episode 3700,  최근 100 episode 평균 reward  419.83\n",
            "episode 3800,  최근 100 episode 평균 reward  402.80\n",
            "episode 3900,  최근 100 episode 평균 reward  431.12\n",
            "episode 4000,  최근 100 episode 평균 reward  434.91\n",
            "episode 4100,  최근 100 episode 평균 reward  461.57\n",
            "episode 4200,  최근 100 episode 평균 reward  438.33\n",
            "episode 4300,  최근 100 episode 평균 reward  429.61\n",
            "episode 4400,  최근 100 episode 평균 reward  424.58\n",
            "episode 4500,  최근 100 episode 평균 reward  447.44\n",
            "episode 4600,  최근 100 episode 평균 reward  450.02\n",
            "episode 4700,  최근 100 episode 평균 reward  450.26\n",
            "episode 4800,  최근 100 episode 평균 reward  410.69\n",
            "episode 4900,  최근 100 episode 평균 reward  344.17\n",
            "episode 5000,  최근 100 episode 평균 reward  421.02\n",
            "episode 5100,  최근 100 episode 평균 reward  491.82\n",
            "episode 5200,  최근 100 episode 평균 reward  490.34\n",
            "episode 5300,  최근 100 episode 평균 reward  478.18\n",
            "episode 5400,  최근 100 episode 평균 reward  430.77\n",
            "episode 5500,  최근 100 episode 평균 reward  419.48\n",
            "episode 5600,  최근 100 episode 평균 reward  464.13\n",
            "episode 5700,  최근 100 episode 평균 reward  487.03\n",
            "episode 5800,  최근 100 episode 평균 reward  471.64\n",
            "episode 5900,  최근 100 episode 평균 reward  440.27\n",
            "episode 6000,  최근 100 episode 평균 reward  472.37\n",
            "episode 6100,  최근 100 episode 평균 reward  474.80\n",
            "episode 6200,  최근 100 episode 평균 reward  487.52\n",
            "episode 6300,  최근 100 episode 평균 reward  467.80\n",
            "episode 6400,  최근 100 episode 평균 reward  489.61\n",
            "episode 6500,  최근 100 episode 평균 reward  460.29\n",
            "episode 6600,  최근 100 episode 평균 reward  444.49\n",
            "episode 6700,  최근 100 episode 평균 reward  434.96\n",
            "episode 6800,  최근 100 episode 평균 reward  452.28\n",
            "episode 6900,  최근 100 episode 평균 reward  474.96\n",
            "episode 7000,  최근 100 episode 평균 reward  488.98\n",
            "episode 7100,  최근 100 episode 평균 reward  496.51\n",
            "episode 7200,  최근 100 episode 평균 reward  478.32\n",
            "episode 7300,  최근 100 episode 평균 reward  466.96\n",
            "episode 7400,  최근 100 episode 평균 reward  497.31\n",
            "episode 7500,  최근 100 episode 평균 reward  491.72\n",
            "episode 7600,  최근 100 episode 평균 reward  496.33\n",
            "episode 7700,  최근 100 episode 평균 reward  498.56\n",
            "episode 7800,  최근 100 episode 평균 reward  497.02\n",
            "episode 7900,  최근 100 episode 평균 reward  497.52\n",
            "episode 8000,  최근 100 episode 평균 reward  500.00\n",
            "episode 8100,  최근 100 episode 평균 reward  499.33\n",
            "episode 8200,  최근 100 episode 평균 reward  500.00\n",
            "episode 8300,  최근 100 episode 평균 reward  500.00\n",
            "episode 8400,  최근 100 episode 평균 reward  498.77\n",
            "episode 8500,  최근 100 episode 평균 reward  499.76\n",
            "episode 8600,  최근 100 episode 평균 reward  500.00\n",
            "episode 8700,  최근 100 episode 평균 reward  498.91\n",
            "episode 8800,  최근 100 episode 평균 reward  477.84\n",
            "episode 8900,  최근 100 episode 평균 reward  459.04\n",
            "episode 9000,  최근 100 episode 평균 reward  497.55\n",
            "episode 9100,  최근 100 episode 평균 reward  473.51\n",
            "episode 9200,  최근 100 episode 평균 reward  445.79\n",
            "episode 9300,  최근 100 episode 평균 reward  405.36\n",
            "episode 9400,  최근 100 episode 평균 reward  404.03\n",
            "episode 9500,  최근 100 episode 평균 reward  413.60\n",
            "episode 9600,  최근 100 episode 평균 reward  439.13\n",
            "episode 9700,  최근 100 episode 평균 reward  469.84\n",
            "episode 9800,  최근 100 episode 평균 reward  275.63\n",
            "episode 9900,  최근 100 episode 평균 reward  346.45\n"
          ]
        }
      ],
      "source": [
        "start_time = time.time()\n",
        "batch_rewards = []\n",
        "batch_actions = []\n",
        "batch_states = []\n",
        "batch_counter = 1\n",
        "\n",
        "# While episode n < N do: (training의 안정성 제고)\n",
        "for episode in range(N):\n",
        "\n",
        "    s = env.reset()\n",
        "\n",
        "    # for K batches do:\n",
        "    states = []\n",
        "    rewards = []\n",
        "    actions = []\n",
        "\n",
        "    done = False\n",
        "    # Generate an episode s0, a0, r0,...st,at,rt following policy pi(a|s,theta)\n",
        "    while not done:\n",
        "        probs = pi(torch.FloatTensor(s).to(device)).detach().cpu().numpy()\n",
        "        a = np.random.choice(action_space, p=probs)\n",
        "\n",
        "        s_, r, done, _ = env.step(a)\n",
        "\n",
        "        states.append(s)\n",
        "        rewards.append(r)\n",
        "        actions.append(a)\n",
        "\n",
        "        s = s_\n",
        "\n",
        "#         if rendering and (episode > N * 0.98):\n",
        "#             env.render()\n",
        "\n",
        "        if done:\n",
        "            # for each step in the eposide(t), discount reward do:\n",
        "            # G_t = sum from t=1 to t=T {gamma^t * R_t}\n",
        "            batch_rewards.extend(discount_rewards(rewards))\n",
        "            batch_states.extend(states)\n",
        "            batch_actions.extend(actions)\n",
        "            batch_counter += 1\n",
        "            total_rewards.append(sum(rewards))\n",
        "\n",
        "            # If batch is complete, update network\n",
        "            if batch_counter == batch_size:\n",
        "                state_tensor = torch.FloatTensor(batch_states).to(device)\n",
        "                reward_tensor = torch.FloatTensor(batch_rewards).to(device)\n",
        "                action_tensor = torch.LongTensor(batch_actions).to(device)\n",
        "\n",
        "                # Calculate policy loss for all episides in the batch\n",
        "                # L(theta) = -1/m sum(ln(G_t pi(a|s,theta)))))\n",
        "                log_prob = torch.log(pi(state_tensor))\n",
        "                selected_log_probs = reward_tensor * \\\n",
        "                        torch.gather(log_prob, 1, action_tensor.unsqueeze(1)).squeeze()\n",
        "\n",
        "                loss = -1 * selected_log_probs.mean()\n",
        "\n",
        "                # Update the policy:\n",
        "                # theta <- theta + alpha * grad[L(theat)]\n",
        "                optimizer.zero_grad()\n",
        "                loss.backward()\n",
        "                optimizer.step()\n",
        "\n",
        "                batch_rewards = []\n",
        "                batch_actions = []\n",
        "                batch_states = []\n",
        "                batch_counter = 1\n",
        "\n",
        "    if episode % 100 == 0:\n",
        "        avg_score = np.mean(total_rewards[-100:])\n",
        "        print(f'episode {episode},  최근 100 episode 평균 reward {avg_score: .2f}')\n",
        "\n",
        "env.close()"
      ]
    },
    {
      "cell_type": "code",
      "execution_count": 8,
      "id": "J9lUEDW7Nz8r",
      "metadata": {
        "id": "J9lUEDW7Nz8r"
      },
      "outputs": [],
      "source": [
        "#torch.save(pi.state_dict(), '251_REINFORCE_LunarLander-V2.pth')"
      ]
    },
    {
      "cell_type": "markdown",
      "id": "8840559f",
      "metadata": {
        "id": "8840559f"
      },
      "source": [
        "### reward 변화 시각화"
      ]
    },
    {
      "cell_type": "code",
      "execution_count": 9,
      "id": "d4f361c8",
      "metadata": {
        "colab": {
          "base_uri": "https://localhost:8080/",
          "height": 471
        },
        "id": "d4f361c8",
        "outputId": "bd9a453b-d437-4d9b-e94b-924b29557043"
      },
      "outputs": [
        {
          "output_type": "stream",
          "name": "stdout",
          "text": [
            "duration =  28.597554699579874 minutes\n"
          ]
        },
        {
          "output_type": "display_data",
          "data": {
            "text/plain": [
              "<Figure size 640x480 with 1 Axes>"
            ],
            "image/png": "[encoded data removed]"
          },
          "metadata": {}
        }
      ],
      "source": [
        "print(\"duration = \", (time.time() - start_time) / 60, \"minutes\")\n",
        "\n",
        "running_avg = np.zeros(len(total_rewards))\n",
        "\n",
        "for i in range(len(running_avg)):\n",
        "    running_avg[i] = np.mean(total_rewards[max(0, i-100):(i+1)])\n",
        "\n",
        "plt.plot(running_avg)\n",
        "plt.title('Running average of previous 100 rewards')\n",
        "plt.show()"
      ]
    },
    {
      "cell_type": "markdown",
      "id": "4qxsHHDlOW82",
      "metadata": {
        "id": "4qxsHHDlOW82"
      },
      "source": [
        "### 이미 학습되어 저장된 model load"
      ]
    },
    {
      "cell_type": "code",
      "execution_count": 10,
      "id": "Yo-67zdUOVt5",
      "metadata": {
        "id": "Yo-67zdUOVt5"
      },
      "outputs": [],
      "source": [
        "reload = False  # 저장된 모델 사용시  True 로 변경\n",
        "if reload:\n",
        "    pi = PolicyNetwork(input_dims=env.observation_space.shape,\n",
        "                                n_actions=env.action_space.n).to(device)\n",
        "\n",
        "    pi.load_state_dict(torch.load('251_REINFORCE_LunarLander-V2.pth'))"
      ]
    },
    {
      "cell_type": "markdown",
      "id": "2f5d550b",
      "metadata": {
        "id": "2f5d550b"
      },
      "source": [
        "### Animate it with Video"
      ]
    },
    {
      "cell_type": "code",
      "execution_count": 11,
      "id": "xmiYpUDWXPXz",
      "metadata": {
        "id": "xmiYpUDWXPXz"
      },
      "outputs": [],
      "source": [
        "display = Display(visible=False, size=(1400, 900))\n",
        "_ = display.start()    # start display\n",
        "\n",
        "def render_mp4(videopath: str) -> str:\n",
        "  \"\"\"\n",
        "  지정된 경로에 있는 MP4 비디오의 b4 인코딩 버전을 포함하는 문자열을 가져옵니다.\n",
        "  \"\"\"\n",
        "  mp4 = open(videopath, 'rb').read()\n",
        "  base64_encoded_mp4 = b64encode(mp4).decode()\n",
        "  return f'<video width=400 controls><source src=\"data:video/mp4;' \\\n",
        "         f'base64,{base64_encoded_mp4}\" type=\"video/mp4\"></video>'"
      ]
    },
    {
      "cell_type": "code",
      "execution_count": 15,
      "id": "NdpOPpEHXQ5f",
      "metadata": {
        "id": "NdpOPpEHXQ5f",
        "colab": {
          "base_uri": "https://localhost:8080/"
        },
        "outputId": "34968bbf-0e9c-4bc4-b296-1aecb1525f25"
      },
      "outputs": [
        {
          "output_type": "stream",
          "name": "stderr",
          "text": [
            "/usr/local/lib/python3.10/dist-packages/gym/wrappers/monitoring/video_recorder.py:78: DeprecationWarning: \u001b[33mWARN: Recording ability for environment CartPole-v1 initialized with `render_mode=None` is marked as deprecated and will be removed in the future.\u001b[0m\n",
            "  logger.deprecation(\n",
            "/usr/local/lib/python3.10/dist-packages/gym/wrappers/monitoring/video_recorder.py:101: DeprecationWarning: \u001b[33mWARN: <class 'gym.wrappers.monitoring.video_recorder.VideoRecorder'> is marked as deprecated and will be removed in the future.\u001b[0m\n",
            "  logger.deprecation(\n",
            "/usr/local/lib/python3.10/dist-packages/gym/core.py:43: DeprecationWarning: \u001b[33mWARN: The argument mode in render method is deprecated; use render_mode during environment initialization instead.\n",
            "See here for more information: https://www.gymlibrary.ml/content/api/\u001b[0m\n",
            "  deprecation(\n"
          ]
        }
      ],
      "source": [
        "file = \"train.mp4\"\n",
        "\n",
        "if reload:\n",
        "    env = gym.make('LunarLander-v2')\n",
        "\n",
        "video = VideoRecorder(env, file)\n",
        "\n",
        "# 시각화\n",
        "state = env.reset()\n",
        "done = False\n",
        "while not done:\n",
        "    video.capture_frame()\n",
        "\n",
        "    with torch.no_grad():\n",
        "        probs = pi(torch.FloatTensor(state).to(device)).detach().cpu().numpy()\n",
        "\n",
        "    a = np.random.choice(action_space, p=probs)\n",
        "\n",
        "    next_state, reward, done, _ = env.step(a)\n",
        "    state = next_state\n",
        "\n",
        "env.close()\n",
        "video.close()"
      ]
    },
    {
      "cell_type": "code",
      "execution_count": 16,
      "id": "8e009f7c",
      "metadata": {
        "colab": {
          "base_uri": "https://localhost:8080/",
          "height": 287
        },
        "id": "8e009f7c",
        "outputId": "ba97c1eb-337b-454f-abd9-c1275a9a4d04"
      },
      "outputs": [
        {
          "output_type": "execute_result",
          "data": {
            "text/plain": [
              "<IPython.core.display.HTML object>"
            ],
            "text/html": [
              "<video width=400 controls><source src=\"data:video/mp4;base64,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\" type=\"video/mp4\"></video>"
            ]
          },
          "metadata": {},
          "execution_count": 16
        }
      ],
      "source": [
        "file = \"train.mp4\"\n",
        "\n",
        "html = render_mp4(file)\n",
        "HTML(html)"
      ]
    },
    {
      "cell_type": "code",
      "execution_count": 13,
      "id": "cd3989ad",
      "metadata": {
        "id": "cd3989ad"
      },
      "outputs": [],
      "source": []
    }
  ],
  "metadata": {
    "accelerator": "GPU",
    "colab": {
      "provenance": [],
      "gpuType": "T4"
    },
    "kernelspec": {
      "display_name": "Python 3",
      "name": "python3"
    },
    "language_info": {
      "codemirror_mode": {
        "name": "ipython",
        "version": 3
      },
      "file_extension": ".py",
      "mimetype": "text/x-python",
      "name": "python",
      "nbconvert_exporter": "python",
      "pygments_lexer": "ipython3",
      "version": "3.9.7"
    }
  },
  "nbformat": 4,
  "nbformat_minor": 5
}