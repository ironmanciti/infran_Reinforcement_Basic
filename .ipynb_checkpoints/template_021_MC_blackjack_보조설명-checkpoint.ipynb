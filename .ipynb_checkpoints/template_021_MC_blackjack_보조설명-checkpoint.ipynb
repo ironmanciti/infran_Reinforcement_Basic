{
 "cells": [
  {
   "cell_type": "markdown",
   "id": "a3d139ac-07a7-4da8-a85c-60f4a31a2d5f",
   "metadata": {},
   "source": [
    "## np.meshgrid 이해"
   ]
  },
  {
   "cell_type": "code",
   "execution_count": null,
   "id": "be0a8a1b",
   "metadata": {},
   "outputs": [],
   "source": []
  },
  {
   "cell_type": "code",
   "execution_count": null,
   "id": "19fe4ff5",
   "metadata": {},
   "outputs": [],
   "source": [
    "# 플레이어의 카드 합계"
   ]
  },
  {
   "cell_type": "code",
   "execution_count": null,
   "id": "f3db185c",
   "metadata": {},
   "outputs": [],
   "source": [
    "# 딜러의 공개 카드"
   ]
  },
  {
   "cell_type": "markdown",
   "id": "53f042d0-a9da-4b51-8912-7e59cc215f16",
   "metadata": {},
   "source": [
    "## np.dstack 이해"
   ]
  },
  {
   "cell_type": "code",
   "execution_count": null,
   "id": "28500385",
   "metadata": {},
   "outputs": [],
   "source": [
    "# (플레이어 카드합계, 딜러 공개 카드) pair 생성"
   ]
  },
  {
   "cell_type": "code",
   "execution_count": null,
   "id": "875ded9a",
   "metadata": {},
   "outputs": [],
   "source": [
    "# np.dstack([X, Y])의 3번째 축(axis=2)을 따라 함수 적용"
   ]
  },
  {
   "cell_type": "markdown",
   "id": "dccb7711-0415-422c-be2e-633daddd7434",
   "metadata": {},
   "source": [
    "## defaultdict 이해\n",
    "\n",
    "defaultdict는 Python의 collections 모듈에서 제공하는 딕셔너리 서브클래스입니다. defaultdict는 일반적인 딕셔너리와 유사하지만, 존재하지 않는 키를 조회할 때 KeyError를 발생시키는 대신, 기본값을 반환하도록 설정할 수 있습니다. 이를 통해 코드의 간결성과 가독성을 높일 수 있습니다.  \n",
    "\n",
    "키가 존재하지 않는 경우, defaultdict는 지정된 기본값을 자동으로 초기화하여 추가합니다. 따라서 키 존재 여부를 확인하거나 미리 초기화할 필요가 없습니다."
   ]
  },
  {
   "cell_type": "code",
   "execution_count": null,
   "id": "5b2ae511",
   "metadata": {},
   "outputs": [],
   "source": []
  },
  {
   "cell_type": "code",
   "execution_count": null,
   "id": "a8b137f6",
   "metadata": {},
   "outputs": [],
   "source": []
  },
  {
   "cell_type": "code",
   "execution_count": null,
   "id": "b5e1a234",
   "metadata": {},
   "outputs": [],
   "source": [
    "# V를 defaultdict로 정의하고 임의의 값으로 초기화\n",
    "# 플레이어의 카드 합계와 딜러의 공개 카드를 그리드로 생성\n",
    "# 사용 가능한 에이스가 없는 경우에 대한 가치 함수 값을 계산\n",
    "# V[(player의 hand 합계, dealer 공개 카드, 사용 가능한 에이스 보유)]\n",
    "# 결과 출력"
   ]
  },
  {
   "cell_type": "code",
   "execution_count": null,
   "id": "76b6733c",
   "metadata": {},
   "outputs": [],
   "source": [
    "# 3D 그래프를 위한 플롯 생성"
   ]
  },
  {
   "cell_type": "code",
   "execution_count": null,
   "id": "7a26043e",
   "metadata": {},
   "outputs": [],
   "source": []
  }
 ],
 "metadata": {
  "kernelspec": {
   "display_name": "Python 3 (ipykernel)",
   "language": "python",
   "name": "python3"
  },
  "language_info": {
   "codemirror_mode": {
    "name": "ipython",
    "version": 3
   },
   "file_extension": ".py",
   "mimetype": "text/x-python",
   "name": "python",
   "nbconvert_exporter": "python",
   "pygments_lexer": "ipython3",
   "version": "3.9.16"
  }
 },
 "nbformat": 4,
 "nbformat_minor": 5
}
