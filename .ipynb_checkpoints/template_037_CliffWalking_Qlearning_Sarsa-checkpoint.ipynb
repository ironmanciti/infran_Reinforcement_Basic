{
 "cells": [
  {
   "cell_type": "markdown",
   "metadata": {
    "id": "bb6jLALfGu_q"
   },
   "source": [
    "# Cliff Walking Q-Learning vs Sarsa"
   ]
  },
  {
   "cell_type": "markdown",
   "metadata": {
    "id": "Lm3QoadaGu_x"
   },
   "source": [
    "## Cliff GridWorld 환경 \n",
    "- environment class 정의"
   ]
  },
  {
   "cell_type": "markdown",
   "metadata": {
    "id": "5pTV7zRTak7w"
   },
   "source": [
    "- environment 생성"
   ]
  },
  {
   "cell_type": "markdown",
   "metadata": {
    "id": "bCOUqkHuaqod"
   },
   "source": [
    "- action space 정의"
   ]
  },
  {
   "cell_type": "markdown",
   "metadata": {
    "id": "HCogV92nauY8"
   },
   "source": [
    "- state 수, action 수 계산"
   ]
  },
  {
   "cell_type": "markdown",
   "metadata": {
    "id": "ZMbDZYdEa1WT"
   },
   "source": [
    "- 정책 정의"
   ]
  },
  {
   "cell_type": "markdown",
   "metadata": {
    "id": "bEdf77k1a5H-"
   },
   "source": [
    "- Q-Learning, Sarsa 알고리즘 정의"
   ]
  },
  {
   "cell_type": "markdown",
   "metadata": {
    "id": "ZZLEFZvpbArh"
   },
   "source": [
    "- Q-Learning state-action value table 시각화"
   ]
  },
  {
   "cell_type": "markdown",
   "metadata": {
    "id": "Bfs-gyYCbOAg"
   },
   "source": [
    "- Sarsa state-action value table 시각화"
   ]
  },
  {
   "cell_type": "code",
   "execution_count": null,
   "metadata": {},
   "outputs": [],
   "source": []
  }
 ],
 "metadata": {
  "accelerator": "GPU",
  "colab": {
   "name": "937_CliffWalking_Qlearning_Sarsa.ipynb",
   "provenance": []
  },
  "interpreter": {
   "hash": "38b01fad805e8a05966ae056795aab5a88705fcc8f2ad39b88ffa64085cc8280"
  },
  "kernelspec": {
   "display_name": "Python 3 (ipykernel)",
   "language": "python",
   "name": "python3"
  },
  "language_info": {
   "codemirror_mode": {
    "name": "ipython",
    "version": 3
   },
   "file_extension": ".py",
   "mimetype": "text/x-python",
   "name": "python",
   "nbconvert_exporter": "python",
   "pygments_lexer": "ipython3",
   "version": "3.9.13"
  }
 },
 "nbformat": 4,
 "nbformat_minor": 1
}
