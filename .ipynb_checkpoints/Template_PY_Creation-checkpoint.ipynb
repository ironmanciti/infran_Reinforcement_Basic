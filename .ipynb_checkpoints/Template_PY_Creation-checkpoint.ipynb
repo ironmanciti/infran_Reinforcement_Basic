{
 "cells": [
  {
   "cell_type": "markdown",
   "id": "8a5a6118-62e5-4ab4-9568-ce826a475854",
   "metadata": {},
   "source": [
    "### .py program 으로부터 comment 와 for, if, while 문만으로 구성된 template file 생성"
   ]
  },
  {
   "cell_type": "code",
   "execution_count": 20,
   "id": "5fb96fb5-cbe8-41ce-81b6-6ab176645462",
   "metadata": {},
   "outputs": [
    {
     "name": "stdout",
     "output_type": "stream",
     "text": [
      "001_cart_visualize.py\n",
      "006_frozen_lake_with_policy.py\n",
      "015_DP_frozenlake_policy_evaluation.py\n",
      "016_DP_frozenlake_policy_iteration.py\n",
      "017_DP_frozenlake_value_iteration.py\n",
      "021_MC_blackjack_FirstVisit_Visualize.py\n",
      "022_MC_blackjack_control_Visualize.py\n",
      "033_TD_qlearning_frozenLake.py\n",
      "035_TD_qlearning_taxi.py\n",
      "042_DQN_TargetNN.py\n"
     ]
    }
   ],
   "source": [
    "def extract_comments_from_file(input_file_path, output_file_path):\n",
    "    comments = []\n",
    "    with open(input_file_path, 'r', encoding='utf-8') as file:\n",
    "        for line in file:\n",
    "            stripped_line = line.strip()\n",
    "            if stripped_line.startswith('#') or stripped_line.startswith('for') or \\\n",
    "                stripped_line.startswith('if') or stripped_line.startswith('while'):\n",
    "                comments.append(line)\n",
    "            else:\n",
    "                comments.append('\\n')\n",
    "    \n",
    "    with open(output_file_path, 'w', encoding='utf-8') as file:\n",
    "        file.write(''.join(comments))\n",
    "\n",
    "import os\n",
    "\n",
    "for filename in os.listdir('./'):\n",
    "    if filename.endswith('.py') and not filename.startswith('temp_'):\n",
    "        print(filename)\n",
    "        output_file_path = 'temp_' + filename\n",
    "        extract_comments_from_file(filename, output_file_path)"
   ]
  },
  {
   "cell_type": "code",
   "execution_count": null,
   "id": "b2b813eb-03ec-4066-96d5-c4a545b49b31",
   "metadata": {},
   "outputs": [],
   "source": []
  }
 ],
 "metadata": {
  "kernelspec": {
   "display_name": "Python 3 (ipykernel)",
   "language": "python",
   "name": "python3"
  },
  "language_info": {
   "codemirror_mode": {
    "name": "ipython",
    "version": 3
   },
   "file_extension": ".py",
   "mimetype": "text/x-python",
   "name": "python",
   "nbconvert_exporter": "python",
   "pygments_lexer": "ipython3",
   "version": "3.9.0"
  }
 },
 "nbformat": 4,
 "nbformat_minor": 5
}
