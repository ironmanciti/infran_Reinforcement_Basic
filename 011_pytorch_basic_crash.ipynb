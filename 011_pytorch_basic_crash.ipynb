{
  "cells": [
    {
      "cell_type": "markdown",
      "metadata": {
        "id": "bptrBsIN0aIK"
      },
      "source": [
        "# 011. PyTorch basic Crash\n",
        "\n",
        "- GPU 필요하므로 Colab 에서 실행"
      ]
    },
    {
      "cell_type": "code",
      "execution_count": 1,
      "metadata": {
        "colab": {
          "base_uri": "https://localhost:8080/",
          "height": 36
        },
        "id": "FWfvDn9z0aIO",
        "outputId": "ca990cf8-b929-4851-d85b-ac3bfd2b9c67"
      },
      "outputs": [
        {
          "output_type": "execute_result",
          "data": {
            "text/plain": [
              "'cuda:0'"
            ],
            "application/vnd.google.colaboratory.intrinsic+json": {
              "type": "string"
            }
          },
          "metadata": {},
          "execution_count": 1
        }
      ],
      "source": [
        "import torch\n",
        "import numpy as np\n",
        "import matplotlib.pyplot as plt\n",
        "\n",
        "device = \"cuda:0\" if torch.cuda.is_available() else \"cpu\"\n",
        "device"
      ]
    },
    {
      "cell_type": "code",
      "execution_count": 2,
      "metadata": {
        "colab": {
          "base_uri": "https://localhost:8080/",
          "height": 36
        },
        "id": "RBDb9nT4aMMr",
        "outputId": "254496d5-1697-4295-c037-ba2eea41718b"
      },
      "outputs": [
        {
          "output_type": "execute_result",
          "data": {
            "text/plain": [
              "'2.3.1+cu121'"
            ],
            "application/vnd.google.colaboratory.intrinsic+json": {
              "type": "string"
            }
          },
          "metadata": {},
          "execution_count": 2
        }
      ],
      "source": [
        "torch.__version__"
      ]
    },
    {
      "cell_type": "markdown",
      "metadata": {
        "id": "FYOdFDxP0aIR"
      },
      "source": [
        "## Tensor Data Types\n",
        "\n",
        "<img src=\"https://miro.medium.com/max/875/1*-C10tKbZ2h0Zd7maau86oQ.png\" height=\"400\" />"
      ]
    },
    {
      "cell_type": "markdown",
      "metadata": {
        "id": "hDMoQIgGV10z"
      },
      "source": [
        "### torch.tensor 함수\n",
        "\n",
        "`tensor(data, dtype=None, device=None, requires_grad=False) -> Tensor`\n",
        "\n",
        "     data (array_like): list, tuple, numpy ndarray, scalar, and other types.\n",
        "     dtype :  `None`인 경우 `data`에서 데이터 유형을 유추합니다.  \n",
        "     device : `cpu`, `cuda`  \n",
        "     require_grad(bool, optional): autograd가 작업을 기록해야 하는 경우"
      ]
    },
    {
      "cell_type": "markdown",
      "metadata": {
        "id": "3_x6xXPPV100"
      },
      "source": [
        "Float torch tensor 생성"
      ]
    },
    {
      "cell_type": "code",
      "execution_count": 3,
      "metadata": {
        "colab": {
          "base_uri": "https://localhost:8080/"
        },
        "id": "SOUKmrQd0aIR",
        "outputId": "beb621aa-ce56-4ecd-e4f0-e209bda64aec"
      },
      "outputs": [
        {
          "output_type": "stream",
          "name": "stdout",
          "text": [
            "float64 \t torch.float64\n"
          ]
        }
      ],
      "source": [
        "# numpy array 생성\n",
        "a = np.ones((2, 3))\n",
        "# tensor  생성\n",
        "b = torch.tensor(a)\n",
        "# dtype\n",
        "print(a.dtype, '\\t', b.dtype)"
      ]
    },
    {
      "cell_type": "code",
      "execution_count": 4,
      "metadata": {
        "colab": {
          "base_uri": "https://localhost:8080/"
        },
        "id": "dKTlCKQk0aIS",
        "outputId": "adef9667-2073-4ded-a76d-5f3c30f25b70"
      },
      "outputs": [
        {
          "output_type": "stream",
          "name": "stdout",
          "text": [
            "float32 \t torch.float32\n"
          ]
        }
      ],
      "source": [
        "# numpy 생성\n",
        "a = np.ones((2, 3), dtype=\"float32\")\n",
        "# tensor 생성\n",
        "b = torch.tensor(a)\n",
        "# dtype\n",
        "print(a.dtype, '\\t', b.dtype)"
      ]
    },
    {
      "cell_type": "markdown",
      "metadata": {
        "id": "77WegQUXV102"
      },
      "source": [
        "Integer tensor 생성"
      ]
    },
    {
      "cell_type": "code",
      "execution_count": 5,
      "metadata": {
        "colab": {
          "base_uri": "https://localhost:8080/"
        },
        "id": "YECq91Ru0aIS",
        "outputId": "02d3792d-bfa1-486b-cefa-b88b94f17c9e"
      },
      "outputs": [
        {
          "output_type": "execute_result",
          "data": {
            "text/plain": [
              "tensor([[1, 2, 3],\n",
              "        [4, 5, 6]], dtype=torch.int32)"
            ]
          },
          "metadata": {},
          "execution_count": 5
        }
      ],
      "source": [
        "x = torch.tensor([[1, 2, 3], [4, 5, 6]], dtype=torch.int32)\n",
        "x"
      ]
    },
    {
      "cell_type": "code",
      "execution_count": 6,
      "metadata": {
        "colab": {
          "base_uri": "https://localhost:8080/"
        },
        "id": "CcpX1maC0aIT",
        "outputId": "a47e4816-2692-448d-a1ae-c7cb7f253b6b"
      },
      "outputs": [
        {
          "output_type": "execute_result",
          "data": {
            "text/plain": [
              "tensor([[1, 2, 3],\n",
              "        [4, 5, 6]], device='cuda:0', dtype=torch.int32)"
            ]
          },
          "metadata": {},
          "execution_count": 6
        }
      ],
      "source": [
        "x = torch.tensor([[1, 2, 3], [4, 5, 6]], dtype=torch.int32, device=device)\n",
        "x"
      ]
    },
    {
      "cell_type": "markdown",
      "metadata": {
        "id": "NtdNbgjR0aIU"
      },
      "source": [
        "## 1D Tensor Operation\n",
        "\n",
        "### tensor 생성"
      ]
    },
    {
      "cell_type": "code",
      "execution_count": 7,
      "metadata": {
        "colab": {
          "base_uri": "https://localhost:8080/"
        },
        "id": "E9tPSvWC0aIV",
        "outputId": "ed82c4ae-025b-4913-ecf5-3125afa5c960"
      },
      "outputs": [
        {
          "output_type": "execute_result",
          "data": {
            "text/plain": [
              "(tensor(1), tensor(5))"
            ]
          },
          "metadata": {},
          "execution_count": 7
        }
      ],
      "source": [
        "a = torch.tensor([1, 2, 3, 4, 5])\n",
        "\n",
        "a[0], a[-1]"
      ]
    },
    {
      "cell_type": "code",
      "execution_count": 8,
      "metadata": {
        "colab": {
          "base_uri": "https://localhost:8080/"
        },
        "id": "xfMlsCA3tS4Q",
        "outputId": "9c4f4917-0e34-4d0b-ae10-88e6a5e222da"
      },
      "outputs": [
        {
          "output_type": "execute_result",
          "data": {
            "text/plain": [
              "torch.Size([5])"
            ]
          },
          "metadata": {},
          "execution_count": 8
        }
      ],
      "source": [
        "a.size()"
      ]
    },
    {
      "cell_type": "code",
      "execution_count": 9,
      "metadata": {
        "colab": {
          "base_uri": "https://localhost:8080/"
        },
        "id": "hanzRpv8tS4R",
        "outputId": "68a5a5f3-382d-4e2b-d750-b61b5a0970c4"
      },
      "outputs": [
        {
          "output_type": "execute_result",
          "data": {
            "text/plain": [
              "1"
            ]
          },
          "metadata": {},
          "execution_count": 9
        }
      ],
      "source": [
        "a.ndimension()"
      ]
    },
    {
      "cell_type": "code",
      "execution_count": 10,
      "metadata": {
        "colab": {
          "base_uri": "https://localhost:8080/"
        },
        "id": "AGn52TuStS4R",
        "outputId": "f038478f-aac8-45d0-a384-a0c862a681f1"
      },
      "outputs": [
        {
          "output_type": "execute_result",
          "data": {
            "text/plain": [
              "tensor([[1],\n",
              "        [2],\n",
              "        [3],\n",
              "        [4],\n",
              "        [5]])"
            ]
          },
          "metadata": {},
          "execution_count": 10
        }
      ],
      "source": [
        "a.view(5, 1)"
      ]
    },
    {
      "cell_type": "code",
      "execution_count": 11,
      "metadata": {
        "colab": {
          "base_uri": "https://localhost:8080/"
        },
        "id": "V-fCsOir0aIW",
        "outputId": "c3440f4d-b9a6-4b11-b294-b8511080d554",
        "scrolled": true
      },
      "outputs": [
        {
          "output_type": "execute_result",
          "data": {
            "text/plain": [
              "tensor([0., 1., 2., 3., 4.])"
            ]
          },
          "metadata": {},
          "execution_count": 11
        }
      ],
      "source": [
        "# cpu tensor\n",
        "a = torch.FloatTensor([0, 1, 2, 3, 4])\n",
        "a"
      ]
    },
    {
      "cell_type": "code",
      "execution_count": 12,
      "metadata": {
        "colab": {
          "base_uri": "https://localhost:8080/"
        },
        "id": "vaWaOjX10aIX",
        "outputId": "8ec6ff20-cf0a-42ea-8b48-29be74caba11"
      },
      "outputs": [
        {
          "output_type": "stream",
          "name": "stderr",
          "text": [
            "<ipython-input-12-bcf1493b08d5>:2: UserWarning: The torch.cuda.*DtypeTensor constructors are no longer recommended. It's best to use methods such as torch.tensor(data, dtype=*, device='cuda') to create tensors. (Triggered internally at ../torch/csrc/tensor/python_tensor.cpp:78.)\n",
            "  a = torch.cuda.FloatTensor([0, 1, 2, 3, 4])\n"
          ]
        },
        {
          "output_type": "execute_result",
          "data": {
            "text/plain": [
              "tensor([0., 1., 2., 3., 4.], device='cuda:0')"
            ]
          },
          "metadata": {},
          "execution_count": 12
        }
      ],
      "source": [
        "# gpu tensor\n",
        "a = torch.cuda.FloatTensor([0, 1, 2, 3, 4])\n",
        "a"
      ]
    },
    {
      "cell_type": "markdown",
      "metadata": {
        "id": "jx-H1RPX0aIX"
      },
      "source": [
        "### Tensor Type 변환\n",
        "\n",
        "- cpu <--> gpu"
      ]
    },
    {
      "cell_type": "code",
      "execution_count": 13,
      "metadata": {
        "colab": {
          "base_uri": "https://localhost:8080/"
        },
        "id": "uNaqQAfV0aIY",
        "outputId": "6b1331ce-b732-46f9-c020-d5f2c142e19b"
      },
      "outputs": [
        {
          "output_type": "execute_result",
          "data": {
            "text/plain": [
              "tensor([0., 1., 2., 3., 4.])"
            ]
          },
          "metadata": {},
          "execution_count": 13
        }
      ],
      "source": [
        "# cpu tensor\n",
        "a = a.type(torch.FloatTensor)\n",
        "a"
      ]
    },
    {
      "cell_type": "code",
      "execution_count": 14,
      "metadata": {
        "colab": {
          "base_uri": "https://localhost:8080/"
        },
        "id": "cqzQEqrv0aIY",
        "outputId": "2eb3d4fc-ca4b-47fe-98d1-2a25f60584bc"
      },
      "outputs": [
        {
          "output_type": "execute_result",
          "data": {
            "text/plain": [
              "tensor([0., 1., 2., 3., 4.], device='cuda:0')"
            ]
          },
          "metadata": {},
          "execution_count": 14
        }
      ],
      "source": [
        "# gpu tensor\n",
        "b = a.to(device)\n",
        "b"
      ]
    },
    {
      "cell_type": "code",
      "execution_count": 15,
      "metadata": {
        "colab": {
          "base_uri": "https://localhost:8080/"
        },
        "id": "ngVGxSjx0aIZ",
        "outputId": "4cecfff9-0e4c-4713-87b6-71c5894403ef"
      },
      "outputs": [
        {
          "output_type": "execute_result",
          "data": {
            "text/plain": [
              "tensor([0., 1., 2., 3., 4.], device='cuda:0')"
            ]
          },
          "metadata": {},
          "execution_count": 15
        }
      ],
      "source": [
        "b = a.cuda()\n",
        "b"
      ]
    },
    {
      "cell_type": "code",
      "execution_count": 16,
      "metadata": {
        "colab": {
          "base_uri": "https://localhost:8080/"
        },
        "id": "9mUqqm4K0aIZ",
        "outputId": "d69e762b-a949-408c-e892-dc957268a0ae"
      },
      "outputs": [
        {
          "output_type": "execute_result",
          "data": {
            "text/plain": [
              "tensor([0., 1., 2., 3., 4.], device='cuda:0')"
            ]
          },
          "metadata": {},
          "execution_count": 16
        }
      ],
      "source": [
        "c = a.type(torch.cuda.FloatTensor)\n",
        "c"
      ]
    },
    {
      "cell_type": "code",
      "execution_count": 17,
      "metadata": {
        "colab": {
          "base_uri": "https://localhost:8080/"
        },
        "id": "SO5KKyhq0aIZ",
        "outputId": "8c414076-87e5-4aa5-d8fb-c1a003f5c415"
      },
      "outputs": [
        {
          "output_type": "execute_result",
          "data": {
            "text/plain": [
              "tensor([0., 1., 2., 3., 4.])"
            ]
          },
          "metadata": {},
          "execution_count": 17
        }
      ],
      "source": [
        "# cpu tensor\n",
        "d = b.to(\"cpu\")\n",
        "d"
      ]
    },
    {
      "cell_type": "code",
      "execution_count": 18,
      "metadata": {
        "colab": {
          "base_uri": "https://localhost:8080/"
        },
        "id": "jARC3_Tf0aIZ",
        "outputId": "e7eb108a-e4d1-4185-9f1b-f8d075ea41c7"
      },
      "outputs": [
        {
          "output_type": "execute_result",
          "data": {
            "text/plain": [
              "tensor([0., 1., 2., 3., 4.])"
            ]
          },
          "metadata": {},
          "execution_count": 18
        }
      ],
      "source": [
        "e = c.cpu()\n",
        "e"
      ]
    },
    {
      "cell_type": "markdown",
      "metadata": {
        "id": "6yb70D7F0aIa"
      },
      "source": [
        "### Tensor 생성\n",
        "\n",
        "- 무작위로 초기화된 행렬 생성 (uniform distribution)"
      ]
    },
    {
      "cell_type": "code",
      "execution_count": 19,
      "metadata": {
        "colab": {
          "base_uri": "https://localhost:8080/"
        },
        "id": "M1ohi1oc0aIa",
        "outputId": "3318ddec-84c2-4f31-f7f4-f3b125aa3d85"
      },
      "outputs": [
        {
          "output_type": "stream",
          "name": "stdout",
          "text": [
            "tensor([[0.4363, 0.7677, 0.0048],\n",
            "        [0.0156, 0.2046, 0.1983],\n",
            "        [0.4778, 0.4162, 0.5468],\n",
            "        [0.9259, 0.8934, 0.2729],\n",
            "        [0.5883, 0.5510, 0.0524]])\n"
          ]
        }
      ],
      "source": [
        "x = torch.rand(5, 3)\n",
        "print(x)"
      ]
    },
    {
      "cell_type": "markdown",
      "metadata": {
        "id": "XdplE1BX0aIb"
      },
      "source": [
        "- dtype이 long이고 0으로 채워진 행렬 생성"
      ]
    },
    {
      "cell_type": "code",
      "execution_count": 20,
      "metadata": {
        "colab": {
          "base_uri": "https://localhost:8080/"
        },
        "id": "5gLRQs6M0aIb",
        "outputId": "b7eed86c-2815-4650-b448-cb0183ff82ef"
      },
      "outputs": [
        {
          "output_type": "stream",
          "name": "stdout",
          "text": [
            "tensor([[0, 0, 0],\n",
            "        [0, 0, 0],\n",
            "        [0, 0, 0],\n",
            "        [0, 0, 0],\n",
            "        [0, 0, 0]])\n",
            "torch.int64\n"
          ]
        }
      ],
      "source": [
        "x = torch.zeros(5, 3, dtype=torch.long)\n",
        "print(x)\n",
        "print(x.dtype)"
      ]
    },
    {
      "cell_type": "markdown",
      "metadata": {
        "id": "RX0uBf2g0aIc"
      },
      "source": [
        "- python list로 부터 tensor 생성"
      ]
    },
    {
      "cell_type": "code",
      "execution_count": 21,
      "metadata": {
        "colab": {
          "base_uri": "https://localhost:8080/"
        },
        "id": "_9TfISuo0aIc",
        "outputId": "25ddba38-0f62-4716-9c76-f1507d2c8503"
      },
      "outputs": [
        {
          "output_type": "execute_result",
          "data": {
            "text/plain": [
              "('torch.LongTensor', torch.int64)"
            ]
          },
          "metadata": {},
          "execution_count": 21
        }
      ],
      "source": [
        "a = torch.tensor([7, 4, 3, 2, 6])\n",
        "a.type(), a.dtype"
      ]
    },
    {
      "cell_type": "code",
      "execution_count": 22,
      "metadata": {
        "colab": {
          "base_uri": "https://localhost:8080/"
        },
        "id": "5Yg6Wqe-0aIc",
        "outputId": "eb9fb4d4-aebc-4357-d7ae-286d8957be99"
      },
      "outputs": [
        {
          "output_type": "execute_result",
          "data": {
            "text/plain": [
              "('torch.FloatTensor', torch.float32)"
            ]
          },
          "metadata": {},
          "execution_count": 22
        }
      ],
      "source": [
        "b = torch.FloatTensor([7, 4, 3, 2, 6])\n",
        "b.type(), b.dtype"
      ]
    },
    {
      "cell_type": "code",
      "execution_count": 23,
      "metadata": {
        "colab": {
          "base_uri": "https://localhost:8080/"
        },
        "id": "GUVEvrw10aIc",
        "outputId": "335bc589-0ba5-4deb-beaa-9feec53a2264"
      },
      "outputs": [
        {
          "output_type": "execute_result",
          "data": {
            "text/plain": [
              "tensor([True, True, True, True, True])"
            ]
          },
          "metadata": {},
          "execution_count": 23
        }
      ],
      "source": [
        "a == b"
      ]
    },
    {
      "cell_type": "markdown",
      "metadata": {
        "id": "0CWwLRBuc8LU"
      },
      "source": [
        "torch.LongTensor --> torch.long, torch.int64"
      ]
    },
    {
      "cell_type": "code",
      "execution_count": 24,
      "metadata": {
        "colab": {
          "base_uri": "https://localhost:8080/"
        },
        "id": "ynDK94Qk0aId",
        "outputId": "fcfd8d22-07cc-449b-bfcc-8ada0924e65d"
      },
      "outputs": [
        {
          "output_type": "execute_result",
          "data": {
            "text/plain": [
              "tensor([7, 4, 3, 2, 6])"
            ]
          },
          "metadata": {},
          "execution_count": 24
        }
      ],
      "source": [
        "c = torch.tensor([7, 4, 3, 2, 6], dtype=torch.int64)\n",
        "c"
      ]
    },
    {
      "cell_type": "code",
      "execution_count": 25,
      "metadata": {
        "colab": {
          "base_uri": "https://localhost:8080/"
        },
        "id": "OqzyaBJE0aId",
        "outputId": "fcc44374-96a0-4108-9c8e-0cf541858b7b"
      },
      "outputs": [
        {
          "output_type": "execute_result",
          "data": {
            "text/plain": [
              "tensor([7, 4, 3, 2, 6])"
            ]
          },
          "metadata": {},
          "execution_count": 25
        }
      ],
      "source": [
        "d = torch.LongTensor([7, 4, 3, 2, 6])\n",
        "d"
      ]
    },
    {
      "cell_type": "code",
      "execution_count": 26,
      "metadata": {
        "colab": {
          "base_uri": "https://localhost:8080/"
        },
        "id": "0-cuMD6laF2x",
        "outputId": "3348a975-ba0b-4fa0-c1ff-e570c3b33a8f"
      },
      "outputs": [
        {
          "output_type": "execute_result",
          "data": {
            "text/plain": [
              "tensor([True, True, True, True, True])"
            ]
          },
          "metadata": {},
          "execution_count": 26
        }
      ],
      "source": [
        "c == d"
      ]
    },
    {
      "cell_type": "markdown",
      "metadata": {
        "id": "_F_MBE6Y0aId"
      },
      "source": [
        "## Tensor 의 shape & dimension (rank)"
      ]
    },
    {
      "cell_type": "code",
      "execution_count": 27,
      "metadata": {
        "colab": {
          "base_uri": "https://localhost:8080/"
        },
        "id": "ptYfxewn0aIe",
        "outputId": "22775ee3-4801-480d-e701-c8d5079b0a8f"
      },
      "outputs": [
        {
          "output_type": "execute_result",
          "data": {
            "text/plain": [
              "torch.Size([5])"
            ]
          },
          "metadata": {},
          "execution_count": 27
        }
      ],
      "source": [
        "a = torch.Tensor([0, 1, 2, 3, 4])\n",
        "a.size()"
      ]
    },
    {
      "cell_type": "code",
      "execution_count": 28,
      "metadata": {
        "colab": {
          "base_uri": "https://localhost:8080/"
        },
        "id": "R5VHrcai0aIe",
        "outputId": "31204426-29d9-4185-912b-234507c8eed0"
      },
      "outputs": [
        {
          "output_type": "execute_result",
          "data": {
            "text/plain": [
              "torch.Size([5])"
            ]
          },
          "metadata": {},
          "execution_count": 28
        }
      ],
      "source": [
        "# size() 와 shape 은 alias\n",
        "a.shape"
      ]
    },
    {
      "cell_type": "code",
      "execution_count": 29,
      "metadata": {
        "colab": {
          "base_uri": "https://localhost:8080/"
        },
        "id": "fXSRrETw0aIe",
        "outputId": "0dd83268-74be-4f8a-e393-4a43bf4176a9"
      },
      "outputs": [
        {
          "output_type": "execute_result",
          "data": {
            "text/plain": [
              "1"
            ]
          },
          "metadata": {},
          "execution_count": 29
        }
      ],
      "source": [
        "a.ndimension()"
      ]
    },
    {
      "cell_type": "markdown",
      "metadata": {
        "id": "HV3UkTgU0aIf"
      },
      "source": [
        "## torch.view : original tensor의 memory 공유"
      ]
    },
    {
      "cell_type": "code",
      "execution_count": 30,
      "metadata": {
        "colab": {
          "base_uri": "https://localhost:8080/"
        },
        "id": "aWgmcHz20aIg",
        "outputId": "0e3916bd-5144-48fe-d249-023ad20f7e8d"
      },
      "outputs": [
        {
          "output_type": "stream",
          "name": "stdout",
          "text": [
            "torch.Size([4, 4]) torch.Size([16]) torch.Size([2, 8])\n"
          ]
        }
      ],
      "source": [
        "x = torch.randn(4, 4)\n",
        "y = x.view(16)\n",
        "z = x.view(-1, 8)\n",
        "\n",
        "print(x.size(), y.size(), z.size())"
      ]
    },
    {
      "cell_type": "markdown",
      "metadata": {
        "id": "SOr0fUj50aIg"
      },
      "source": [
        "## numpy 와 tensor 간의 호환성\n",
        "\n",
        "- memory 를 공유하므로 하나를 수정하면 나머지에 모두 반영  "
      ]
    },
    {
      "cell_type": "code",
      "execution_count": 31,
      "metadata": {
        "colab": {
          "base_uri": "https://localhost:8080/"
        },
        "id": "G6Gk3T1L0aIg",
        "outputId": "2504ce55-e94f-42ae-fad5-1076aaab620c"
      },
      "outputs": [
        {
          "output_type": "execute_result",
          "data": {
            "text/plain": [
              "tensor([0., 1., 2., 3., 4., 5.], dtype=torch.float64)"
            ]
          },
          "metadata": {},
          "execution_count": 31
        }
      ],
      "source": [
        "numpy_array = np.array([0.0, 1.0, 2.0, 3.0, 4.0, 5.0])       # numpy array\n",
        "torch_tensor = torch.from_numpy(numpy_array)               # torch tensor\n",
        "torch_tensor"
      ]
    },
    {
      "cell_type": "code",
      "execution_count": 32,
      "metadata": {
        "colab": {
          "base_uri": "https://localhost:8080/"
        },
        "id": "P1x1lBo70aIh",
        "outputId": "bb2a7da2-eac9-4367-e67e-dae1baf55d58"
      },
      "outputs": [
        {
          "output_type": "execute_result",
          "data": {
            "text/plain": [
              "array([0., 1., 2., 3., 4., 5.])"
            ]
          },
          "metadata": {},
          "execution_count": 32
        }
      ],
      "source": [
        "back_to_numpy = torch_tensor.numpy()           # numpy array\n",
        "back_to_numpy"
      ]
    },
    {
      "cell_type": "code",
      "execution_count": 33,
      "metadata": {
        "colab": {
          "base_uri": "https://localhost:8080/"
        },
        "id": "PFxj24eI0aIh",
        "outputId": "e782b587-8e43-4369-9474-97f3902df528"
      },
      "outputs": [
        {
          "output_type": "execute_result",
          "data": {
            "text/plain": [
              "(array([0., 1., 2., 3., 4., 5.]),\n",
              " tensor([0., 1., 2., 3., 4., 5.], dtype=torch.float64),\n",
              " array([0., 1., 2., 3., 4., 5.]))"
            ]
          },
          "metadata": {},
          "execution_count": 33
        }
      ],
      "source": [
        "numpy_array, torch_tensor, back_to_numpy"
      ]
    },
    {
      "cell_type": "code",
      "execution_count": 34,
      "metadata": {
        "colab": {
          "base_uri": "https://localhost:8080/"
        },
        "id": "Bm76gZrW0aIh",
        "outputId": "315f09c3-9256-462a-f2eb-8c9ec60e78eb"
      },
      "outputs": [
        {
          "output_type": "execute_result",
          "data": {
            "text/plain": [
              "(array([100.,   1.,   2.,   3.,   4.,   5.]),\n",
              " tensor([100.,   1.,   2.,   3.,   4.,   5.], dtype=torch.float64),\n",
              " array([100.,   1.,   2.,   3.,   4.,   5.]))"
            ]
          },
          "metadata": {},
          "execution_count": 34
        }
      ],
      "source": [
        "back_to_numpy[0] = 100\n",
        "\n",
        "numpy_array, torch_tensor, back_to_numpy"
      ]
    },
    {
      "cell_type": "markdown",
      "metadata": {
        "id": "M7tI-oW-0aIi"
      },
      "source": [
        "## Scalar value\n",
        "\n",
        "- 만약 tensor에 하나의 값만 존재한다면, ``.item()`` method를 사용하여 숫자 값을 얻을 수 있습니다.  "
      ]
    },
    {
      "cell_type": "code",
      "execution_count": 35,
      "metadata": {
        "colab": {
          "base_uri": "https://localhost:8080/"
        },
        "id": "nkyd8fiK0aIi",
        "outputId": "c99a8334-a02c-4ecb-96f0-e9bd90af0215"
      },
      "outputs": [
        {
          "output_type": "execute_result",
          "data": {
            "text/plain": [
              "-0.7823981046676636"
            ]
          },
          "metadata": {},
          "execution_count": 35
        }
      ],
      "source": [
        "x = torch.randn(1)\n",
        "x.item()"
      ]
    },
    {
      "cell_type": "code",
      "execution_count": 36,
      "metadata": {
        "colab": {
          "base_uri": "https://localhost:8080/"
        },
        "id": "UY1-2LF00aIi",
        "outputId": "73936f5e-b3ad-4a2a-f330-27925f170a54"
      },
      "outputs": [
        {
          "output_type": "stream",
          "name": "stdout",
          "text": [
            "tensor(5.)\n",
            "5.0\n"
          ]
        }
      ],
      "source": [
        "a = torch.tensor([5., 3., 4., 1.])\n",
        "\n",
        "print(a[0])\n",
        "print(a[0].item())"
      ]
    },
    {
      "cell_type": "markdown",
      "metadata": {
        "id": "79_l6-6Jr3A4"
      },
      "source": [
        "- tensor 가 array 형태인 경우 `numpy()` method 를 통해 ndarray 반환"
      ]
    },
    {
      "cell_type": "code",
      "execution_count": 37,
      "metadata": {
        "colab": {
          "base_uri": "https://localhost:8080/"
        },
        "id": "pbNz9o3_0aIj",
        "outputId": "9993c809-f5bc-4ec4-d877-303cf7dd92c2"
      },
      "outputs": [
        {
          "output_type": "stream",
          "name": "stdout",
          "text": [
            "tensor([-1.7493,  0.7970])\n",
            "\n",
            "[-1.7492791  0.7970435]\n"
          ]
        }
      ],
      "source": [
        "x = torch.randn(2)\n",
        "print(x)\n",
        "print()\n",
        "print(x.numpy())"
      ]
    },
    {
      "cell_type": "markdown",
      "metadata": {
        "id": "rId3CNLU0aIx"
      },
      "source": [
        "### torch.sum, torch.max, torch.min, torch.argmax, torch.argmin\n",
        "\n",
        "- torch.sum(input, dim, keepdim=False, dtype=None) → Tensor  \n",
        "주어진 차원 dim에서 입력 텐서의 각 행의 합(max, min)을 반환합니다.\n",
        "\n",
        "- dim 을 지정한 경우, 지정된 dim을 축소하는 것입니다. 따라서 dim 0(행)을 접으면 하나의 행이 됩니다(열 단위로 합산)."
      ]
    },
    {
      "cell_type": "code",
      "execution_count": 38,
      "metadata": {
        "colab": {
          "base_uri": "https://localhost:8080/"
        },
        "id": "hDN0yJwK2IfD",
        "outputId": "0e8d4958-624e-4d45-8160-0f3a3a058b6d"
      },
      "outputs": [
        {
          "output_type": "execute_result",
          "data": {
            "text/plain": [
              "torch.Size([2, 3])"
            ]
          },
          "metadata": {},
          "execution_count": 38
        }
      ],
      "source": [
        "x = torch.tensor([\n",
        "     [1, 2, 3],\n",
        "     [4, 5, 6]\n",
        "   ])\n",
        "x.shape"
      ]
    },
    {
      "cell_type": "code",
      "execution_count": 39,
      "metadata": {
        "colab": {
          "base_uri": "https://localhost:8080/"
        },
        "id": "CePmD-2k0aIy",
        "outputId": "675d0871-9538-4d34-9fde-0676f3c75795"
      },
      "outputs": [
        {
          "output_type": "execute_result",
          "data": {
            "text/plain": [
              "(torch.return_types.max(\n",
              " values=tensor([4, 5, 6]),\n",
              " indices=tensor([1, 1, 1])),\n",
              " torch.return_types.min(\n",
              " values=tensor([1, 2, 3]),\n",
              " indices=tensor([0, 0, 0])))"
            ]
          },
          "metadata": {},
          "execution_count": 39
        }
      ],
      "source": [
        "torch.max(x, axis=0), torch.min(x, axis=0)"
      ]
    },
    {
      "cell_type": "code",
      "execution_count": 40,
      "metadata": {
        "colab": {
          "base_uri": "https://localhost:8080/"
        },
        "id": "1a8CMMJ-0O1n",
        "outputId": "fdc4b581-21e1-4aaa-a010-81a3a3672d95"
      },
      "outputs": [
        {
          "output_type": "execute_result",
          "data": {
            "text/plain": [
              "(torch.return_types.max(\n",
              " values=tensor([3, 6]),\n",
              " indices=tensor([2, 2])),\n",
              " torch.return_types.min(\n",
              " values=tensor([1, 4]),\n",
              " indices=tensor([0, 0])))"
            ]
          },
          "metadata": {},
          "execution_count": 40
        }
      ],
      "source": [
        "torch.max(x, axis=1), torch.min(x, axis=1)"
      ]
    },
    {
      "cell_type": "code",
      "execution_count": 41,
      "metadata": {
        "colab": {
          "base_uri": "https://localhost:8080/"
        },
        "id": "nXjMNMg-0aIy",
        "outputId": "985eff83-7c8f-48a9-a738-cb4bcfc658b8"
      },
      "outputs": [
        {
          "output_type": "execute_result",
          "data": {
            "text/plain": [
              "(tensor(5), tensor(0))"
            ]
          },
          "metadata": {},
          "execution_count": 41
        }
      ],
      "source": [
        "torch.argmax(x), torch.argmin(x)"
      ]
    },
    {
      "cell_type": "code",
      "execution_count": 42,
      "metadata": {
        "colab": {
          "base_uri": "https://localhost:8080/"
        },
        "id": "M_PL7lmN5JKb",
        "outputId": "da651abe-ae1d-4cf2-b738-8420ae930e87"
      },
      "outputs": [
        {
          "output_type": "execute_result",
          "data": {
            "text/plain": [
              "(tensor([1, 1, 1]), tensor([0, 0, 0]))"
            ]
          },
          "metadata": {},
          "execution_count": 42
        }
      ],
      "source": [
        "torch.argmax(x, axis=0), torch.argmin(x, axis=0)"
      ]
    },
    {
      "cell_type": "code",
      "execution_count": 43,
      "metadata": {
        "colab": {
          "base_uri": "https://localhost:8080/"
        },
        "id": "synk2elK0aIz",
        "outputId": "a75e29bd-91b8-4d76-e657-0199f5f583c9"
      },
      "outputs": [
        {
          "output_type": "execute_result",
          "data": {
            "text/plain": [
              "(tensor([2, 2]), tensor([0, 0]))"
            ]
          },
          "metadata": {},
          "execution_count": 43
        }
      ],
      "source": [
        "torch.argmax(x, axis=1), torch.argmin(x, axis=1)"
      ]
    },
    {
      "cell_type": "markdown",
      "source": [
        "# Backpropagation 과 경사하강법 적용\n",
        "\n",
        "- weight 와 bias를 스스로 학습\n",
        "- (습도, 강수량, 최고온도, 최저온도)를 feature 로 입력 받아  (사과, 오렌지)의 수확량(label)을 선형회귀로 예측하는 model 작성"
      ],
      "metadata": {
        "id": "tgHEtRawmKz5"
      }
    },
    {
      "cell_type": "code",
      "execution_count": 44,
      "metadata": {
        "id": "E1h8Frco0aI_"
      },
      "outputs": [],
      "source": [
        "# Input (습도, 강수량, 최고온도, 최저온도)\n",
        "inputs = np.array([\n",
        "                   [73, 67, 43, 10],\n",
        "                   [91, 88, 64, 5],\n",
        "                   [87, 134, 58, 2],\n",
        "                   [102, 43, 37, 4],\n",
        "                   [69, 96, 70, 5]], dtype='float32')\n",
        "\n",
        "# Targets - (apples, oranges) 수확량\n",
        "targets = np.array([\n",
        "                    [56, 70],\n",
        "                    [81, 101],\n",
        "                    [119, 133],\n",
        "                    [22, 37],\n",
        "                    [103, 119]], dtype='float32')"
      ]
    },
    {
      "cell_type": "markdown",
      "source": [
        "- input 과 target을 tensor로 변환"
      ],
      "metadata": {
        "id": "mSAENrkAmWHC"
      }
    },
    {
      "cell_type": "code",
      "source": [
        "inputs = torch.from_numpy(inputs)\n",
        "targets = torch.from_numpy(targets)\n",
        "print(inputs.size())\n",
        "print(targets.size())"
      ],
      "metadata": {
        "colab": {
          "base_uri": "https://localhost:8080/"
        },
        "id": "Hzq1bIPsmS-N",
        "outputId": "7418e39d-d3fb-4efd-9a9b-c2167300494a"
      },
      "execution_count": 45,
      "outputs": [
        {
          "output_type": "stream",
          "name": "stdout",
          "text": [
            "torch.Size([5, 4])\n",
            "torch.Size([5, 2])\n"
          ]
        }
      ]
    },
    {
      "cell_type": "code",
      "source": [
        "from torch import nn\n",
        "from torch.nn import Linear\n",
        "from torch import optim\n",
        "\n",
        "torch.manual_seed(1)"
      ],
      "metadata": {
        "colab": {
          "base_uri": "https://localhost:8080/"
        },
        "id": "Ei72Mti3mYwu",
        "outputId": "b481f97c-0200-47ad-8870-c617a5c355e7"
      },
      "execution_count": 46,
      "outputs": [
        {
          "output_type": "execute_result",
          "data": {
            "text/plain": [
              "<torch._C.Generator at 0x7ee1d472c4f0>"
            ]
          },
          "metadata": {},
          "execution_count": 46
        }
      ]
    },
    {
      "cell_type": "code",
      "source": [
        "# 입력 특징의 크기가 4이고 출력 특징의 크기가 2인 선형 모델을 정의합니다.\n",
        "model = nn.Linear(in_features=4, out_features=2)"
      ],
      "metadata": {
        "id": "E67lEaxpmdg-"
      },
      "execution_count": 47,
      "outputs": []
    },
    {
      "cell_type": "code",
      "source": [
        "# 손실 함수로 평균 제곱 오차(MSE)를 정의합니다.\n",
        "criterion = nn.MSELoss()\n",
        "\n",
        "# 모델의 매개변수를 최적화하기 위해 확률적 경사 하강법(SGD) 옵티마이저를 정의합니다.\n",
        "# 학습률(lr)은 1e-4로 설정합니다.\n",
        "optimizer = optim.SGD(model.parameters(), lr=1e-4)"
      ],
      "metadata": {
        "id": "RnEd1qzPmf02"
      },
      "execution_count": 48,
      "outputs": []
    },
    {
      "cell_type": "code",
      "source": [
        "for epoch in range(100):               # 총 100번의 에포크 동안 학습을 반복합니다.\n",
        "    for x, y in zip(inputs, targets):  # 입력 데이터와 타겟 데이터를 쌍으로 묶어 순회합니다.\n",
        "        yhat = model(x)                # 모델에 입력 x를 전달하여 예측값 yhat을 얻습니다.\n",
        "        loss = criterion(yhat, y)      # 예측값 yhat과 실제값 y를 비교하여 손실(loss)을 계산합니다.\n",
        "        loss.backward()                # 손실에 대한 그래디언트를 계산합니다.\n",
        "        optimizer.step()               # 옵티마이저를 사용하여 모델의 가중치를 업데이트합니다.\n",
        "        optimizer.zero_grad()          # 다음 반복을 위해 옵티마이저의 그래디언트를 초기화합니다."
      ],
      "metadata": {
        "id": "z4R8q-3_mnfX"
      },
      "execution_count": 49,
      "outputs": []
    },
    {
      "cell_type": "code",
      "source": [
        "# 모델에 전체 입력 데이터를 전달하여 예측값(preds)을 얻습니다.\n",
        "preds = model(inputs)\n",
        "\n",
        "# 예측값(preds)과 실제 타겟값(targets)을 비교하여 손실(loss)을 계산합니다.\n",
        "loss = criterion(preds, targets)\n",
        "print(loss)"
      ],
      "metadata": {
        "colab": {
          "base_uri": "https://localhost:8080/"
        },
        "id": "8L8lsxrgmqCd",
        "outputId": "79792a5d-dd98-492d-8ed6-3f2be0755dc0"
      },
      "execution_count": 50,
      "outputs": [
        {
          "output_type": "stream",
          "name": "stdout",
          "text": [
            "tensor(4.0759, grad_fn=<MseLossBackward0>)\n"
          ]
        }
      ]
    },
    {
      "cell_type": "code",
      "source": [
        "# Predictions & target 비교\n",
        "print(targets.detach().numpy())\n",
        "print()\n",
        "print(preds.detach().numpy())"
      ],
      "metadata": {
        "colab": {
          "base_uri": "https://localhost:8080/"
        },
        "id": "vPXoyDIXms6-",
        "outputId": "9dab5c35-2573-4c4c-efba-7f55de696137"
      },
      "execution_count": 51,
      "outputs": [
        {
          "output_type": "stream",
          "name": "stdout",
          "text": [
            "[[ 56.  70.]\n",
            " [ 81. 101.]\n",
            " [119. 133.]\n",
            " [ 22.  37.]\n",
            " [103. 119.]]\n",
            "\n",
            "[[ 58.021603  69.747055]\n",
            " [ 83.15652   98.78548 ]\n",
            " [119.96505  128.44089 ]\n",
            " [ 21.839664  34.988003]\n",
            " [102.80343  117.893585]]\n"
          ]
        }
      ]
    },
    {
      "cell_type": "code",
      "source": [],
      "metadata": {
        "id": "kN4dwUp3mvFP"
      },
      "execution_count": 51,
      "outputs": []
    }
  ],
  "metadata": {
    "accelerator": "GPU",
    "colab": {
      "provenance": [],
      "gpuType": "T4"
    },
    "kernelspec": {
      "display_name": "Python 3",
      "name": "python3"
    },
    "language_info": {
      "codemirror_mode": {
        "name": "ipython",
        "version": 3
      },
      "file_extension": ".py",
      "mimetype": "text/x-python",
      "name": "python",
      "nbconvert_exporter": "python",
      "pygments_lexer": "ipython3",
      "version": "3.10.11"
    }
  },
  "nbformat": 4,
  "nbformat_minor": 0
}