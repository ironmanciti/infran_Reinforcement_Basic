{
 "cells": [
  {
   "cell_type": "markdown",
   "id": "79ef6353",
   "metadata": {
    "id": "bptrBsIN0aIK"
   },
   "source": [
    "# 011. PyTorch basic Crash\n",
    "\n",
    "- GPU 필요하므로 Colab 에서 실행"
   ]
  },
  {
   "cell_type": "code",
   "execution_count": null,
   "id": "12aad12f",
   "metadata": {},
   "outputs": [],
   "source": []
  },
  {
   "cell_type": "code",
   "execution_count": null,
   "id": "f10a9a6e",
   "metadata": {},
   "outputs": [],
   "source": []
  },
  {
   "cell_type": "markdown",
   "id": "84325e25",
   "metadata": {
    "id": "FYOdFDxP0aIR"
   },
   "source": [
    "## Tensor Data Types\n",
    "\n",
    "<img src=\"https://miro.medium.com/max/875/1*-C10tKbZ2h0Zd7maau86oQ.png\" height=\"400\" />"
   ]
  },
  {
   "cell_type": "markdown",
   "id": "cffb2957",
   "metadata": {
    "id": "hDMoQIgGV10z"
   },
   "source": [
    "### torch.tensor 함수\n",
    "\n",
    "`tensor(data, dtype=None, device=None, requires_grad=False) -> Tensor`\n",
    "\n",
    "     data (array_like): list, tuple, numpy ndarray, scalar, and other types.\n",
    "     dtype :  `None`인 경우 `data`에서 데이터 유형을 유추합니다.  \n",
    "     device : `cpu`, `cuda`  \n",
    "     require_grad(bool, optional): autograd가 작업을 기록해야 하는 경우"
   ]
  },
  {
   "cell_type": "markdown",
   "id": "ad20f272",
   "metadata": {
    "id": "3_x6xXPPV100"
   },
   "source": [
    "Float torch tensor 생성"
   ]
  },
  {
   "cell_type": "code",
   "execution_count": null,
   "id": "1b2f097f",
   "metadata": {},
   "outputs": [],
   "source": [
    "# numpy array 생성\n",
    "# tensor  생성\n",
    "# dtype"
   ]
  },
  {
   "cell_type": "code",
   "execution_count": null,
   "id": "62d8b94f",
   "metadata": {},
   "outputs": [],
   "source": [
    "# numpy 생성\n",
    "# tensor 생성\n",
    "# dtype"
   ]
  },
  {
   "cell_type": "markdown",
   "id": "ef50c14a",
   "metadata": {
    "id": "77WegQUXV102"
   },
   "source": [
    "Integer tensor 생성"
   ]
  },
  {
   "cell_type": "code",
   "execution_count": null,
   "id": "a9a44696",
   "metadata": {},
   "outputs": [],
   "source": []
  },
  {
   "cell_type": "code",
   "execution_count": null,
   "id": "c213c18e",
   "metadata": {},
   "outputs": [],
   "source": []
  },
  {
   "cell_type": "markdown",
   "id": "61427a1d",
   "metadata": {
    "id": "NtdNbgjR0aIU"
   },
   "source": [
    "## 1D Tensor Operation\n",
    "\n",
    "### tensor 생성"
   ]
  },
  {
   "cell_type": "code",
   "execution_count": null,
   "id": "f7377d9b",
   "metadata": {},
   "outputs": [],
   "source": []
  },
  {
   "cell_type": "code",
   "execution_count": null,
   "id": "f081d543",
   "metadata": {},
   "outputs": [],
   "source": []
  },
  {
   "cell_type": "code",
   "execution_count": null,
   "id": "2ee8a5a6",
   "metadata": {},
   "outputs": [],
   "source": []
  },
  {
   "cell_type": "code",
   "execution_count": null,
   "id": "ad830c2b",
   "metadata": {},
   "outputs": [],
   "source": []
  },
  {
   "cell_type": "code",
   "execution_count": null,
   "id": "8ec33a23",
   "metadata": {},
   "outputs": [],
   "source": [
    "# cpu tensor"
   ]
  },
  {
   "cell_type": "code",
   "execution_count": null,
   "id": "18942c10",
   "metadata": {},
   "outputs": [],
   "source": [
    "# gpu tensor"
   ]
  },
  {
   "cell_type": "markdown",
   "id": "acd87666",
   "metadata": {
    "id": "jx-H1RPX0aIX"
   },
   "source": [
    "### Tensor Type 변환\n",
    "\n",
    "- cpu <--> gpu"
   ]
  },
  {
   "cell_type": "code",
   "execution_count": null,
   "id": "d69bc515",
   "metadata": {},
   "outputs": [],
   "source": [
    "# cpu tensor"
   ]
  },
  {
   "cell_type": "code",
   "execution_count": null,
   "id": "f63251ff",
   "metadata": {},
   "outputs": [],
   "source": [
    "# gpu tensor"
   ]
  },
  {
   "cell_type": "code",
   "execution_count": null,
   "id": "cd554ba7",
   "metadata": {},
   "outputs": [],
   "source": []
  },
  {
   "cell_type": "code",
   "execution_count": null,
   "id": "01090850",
   "metadata": {},
   "outputs": [],
   "source": []
  },
  {
   "cell_type": "code",
   "execution_count": null,
   "id": "ce2e0d76",
   "metadata": {},
   "outputs": [],
   "source": [
    "# cpu tensor"
   ]
  },
  {
   "cell_type": "code",
   "execution_count": null,
   "id": "c4598fc2",
   "metadata": {},
   "outputs": [],
   "source": []
  },
  {
   "cell_type": "markdown",
   "id": "5e0f7243",
   "metadata": {
    "id": "6yb70D7F0aIa"
   },
   "source": [
    "### Tensor 생성\n",
    "\n",
    "- 무작위로 초기화된 행렬 생성 (uniform distribution)"
   ]
  },
  {
   "cell_type": "code",
   "execution_count": null,
   "id": "4d7ee9ea",
   "metadata": {},
   "outputs": [],
   "source": []
  },
  {
   "cell_type": "markdown",
   "id": "96c8806d",
   "metadata": {
    "id": "XdplE1BX0aIb"
   },
   "source": [
    "- dtype이 long이고 0으로 채워진 행렬 생성"
   ]
  },
  {
   "cell_type": "code",
   "execution_count": null,
   "id": "9b0665af",
   "metadata": {},
   "outputs": [],
   "source": []
  },
  {
   "cell_type": "markdown",
   "id": "ba8ae6ce",
   "metadata": {
    "id": "RX0uBf2g0aIc"
   },
   "source": [
    "- python list로 부터 tensor 생성"
   ]
  },
  {
   "cell_type": "code",
   "execution_count": null,
   "id": "c413eea5",
   "metadata": {},
   "outputs": [],
   "source": []
  },
  {
   "cell_type": "code",
   "execution_count": null,
   "id": "3eed8955",
   "metadata": {},
   "outputs": [],
   "source": []
  },
  {
   "cell_type": "code",
   "execution_count": null,
   "id": "33c9db54",
   "metadata": {},
   "outputs": [],
   "source": []
  },
  {
   "cell_type": "markdown",
   "id": "d2349536",
   "metadata": {
    "id": "0CWwLRBuc8LU"
   },
   "source": [
    "torch.LongTensor --> torch.long, torch.int64"
   ]
  },
  {
   "cell_type": "code",
   "execution_count": null,
   "id": "08206a5c",
   "metadata": {},
   "outputs": [],
   "source": []
  },
  {
   "cell_type": "code",
   "execution_count": null,
   "id": "7ee9234a",
   "metadata": {},
   "outputs": [],
   "source": []
  },
  {
   "cell_type": "code",
   "execution_count": null,
   "id": "0b73d8f0",
   "metadata": {},
   "outputs": [],
   "source": []
  },
  {
   "cell_type": "markdown",
   "id": "e5d6fb76",
   "metadata": {
    "id": "_F_MBE6Y0aId"
   },
   "source": [
    "## Tensor 의 shape & dimension (rank)"
   ]
  },
  {
   "cell_type": "code",
   "execution_count": null,
   "id": "f538b71f",
   "metadata": {},
   "outputs": [],
   "source": []
  },
  {
   "cell_type": "code",
   "execution_count": null,
   "id": "18e41c52",
   "metadata": {},
   "outputs": [],
   "source": [
    "# size() 와 shape 은 alias"
   ]
  },
  {
   "cell_type": "code",
   "execution_count": null,
   "id": "8dfd7f09",
   "metadata": {},
   "outputs": [],
   "source": []
  },
  {
   "cell_type": "markdown",
   "id": "31687eba",
   "metadata": {
    "id": "HV3UkTgU0aIf"
   },
   "source": [
    "## torch.view : original tensor의 memory 공유"
   ]
  },
  {
   "cell_type": "code",
   "execution_count": null,
   "id": "aec3325c",
   "metadata": {},
   "outputs": [],
   "source": []
  },
  {
   "cell_type": "markdown",
   "id": "c79b85a1",
   "metadata": {
    "id": "SOr0fUj50aIg"
   },
   "source": [
    "## numpy 와 tensor 간의 호환성\n",
    "\n",
    "- memory 를 공유하므로 하나를 수정하면 나머지에 모두 반영  "
   ]
  },
  {
   "cell_type": "code",
   "execution_count": null,
   "id": "6b29e92c",
   "metadata": {},
   "outputs": [],
   "source": []
  },
  {
   "cell_type": "code",
   "execution_count": null,
   "id": "9d640092",
   "metadata": {},
   "outputs": [],
   "source": []
  },
  {
   "cell_type": "code",
   "execution_count": null,
   "id": "759fbaac",
   "metadata": {},
   "outputs": [],
   "source": []
  },
  {
   "cell_type": "code",
   "execution_count": null,
   "id": "d008c5fc",
   "metadata": {},
   "outputs": [],
   "source": []
  },
  {
   "cell_type": "markdown",
   "id": "87eb5afe",
   "metadata": {
    "id": "M7tI-oW-0aIi"
   },
   "source": [
    "## Scalar value\n",
    "\n",
    "- 만약 tensor에 하나의 값만 존재한다면, ``.item()`` method를 사용하여 숫자 값을 얻을 수 있습니다.  "
   ]
  },
  {
   "cell_type": "code",
   "execution_count": null,
   "id": "aa7043d1",
   "metadata": {},
   "outputs": [],
   "source": []
  },
  {
   "cell_type": "code",
   "execution_count": null,
   "id": "c07bfb43",
   "metadata": {},
   "outputs": [],
   "source": []
  },
  {
   "cell_type": "markdown",
   "id": "be31f286",
   "metadata": {
    "id": "79_l6-6Jr3A4"
   },
   "source": [
    "- tensor 가 array 형태인 경우 `numpy()` method 를 통해 ndarray 반환"
   ]
  },
  {
   "cell_type": "code",
   "execution_count": null,
   "id": "6775dc55",
   "metadata": {},
   "outputs": [],
   "source": []
  },
  {
   "cell_type": "markdown",
   "id": "a12aab74",
   "metadata": {
    "id": "rId3CNLU0aIx"
   },
   "source": [
    "### torch.sum, torch.max, torch.min, torch.argmax, torch.argmin\n",
    "\n",
    "- torch.sum(input, dim, keepdim=False, dtype=None) → Tensor  \n",
    "주어진 차원 dim에서 입력 텐서의 각 행의 합(max, min)을 반환합니다.\n",
    "\n",
    "- dim 을 지정한 경우, 지정된 dim을 축소하는 것입니다. 따라서 dim 0(행)을 접으면 하나의 행이 됩니다(열 단위로 합산)."
   ]
  },
  {
   "cell_type": "code",
   "execution_count": null,
   "id": "c0082472",
   "metadata": {},
   "outputs": [],
   "source": []
  },
  {
   "cell_type": "code",
   "execution_count": null,
   "id": "cc4f525d",
   "metadata": {},
   "outputs": [],
   "source": []
  },
  {
   "cell_type": "code",
   "execution_count": null,
   "id": "8d337c43",
   "metadata": {},
   "outputs": [],
   "source": []
  },
  {
   "cell_type": "code",
   "execution_count": null,
   "id": "d55b85c6",
   "metadata": {},
   "outputs": [],
   "source": []
  },
  {
   "cell_type": "code",
   "execution_count": null,
   "id": "aaa47af9",
   "metadata": {},
   "outputs": [],
   "source": []
  },
  {
   "cell_type": "code",
   "execution_count": null,
   "id": "200833bc",
   "metadata": {},
   "outputs": [],
   "source": []
  },
  {
   "cell_type": "markdown",
   "id": "a5ce7480",
   "metadata": {
    "id": "tgHEtRawmKz5"
   },
   "source": [
    "# Backpropagation 과 경사하강법 적용\n",
    "\n",
    "- weight 와 bias를 스스로 학습\n",
    "- (습도, 강수량, 최고온도, 최저온도)를 feature 로 입력 받아  (사과, 오렌지)의 수확량(label)을 선형회귀로 예측하는 model 작성"
   ]
  },
  {
   "cell_type": "code",
   "execution_count": null,
   "id": "65b7b15c",
   "metadata": {},
   "outputs": [],
   "source": [
    "# Input (습도, 강수량, 최고온도, 최저온도)\n",
    "# Targets - (apples, oranges) 수확량"
   ]
  },
  {
   "cell_type": "markdown",
   "id": "67ab1ea8",
   "metadata": {
    "id": "mSAENrkAmWHC"
   },
   "source": [
    "- input 과 target을 tensor로 변환"
   ]
  },
  {
   "cell_type": "code",
   "execution_count": null,
   "id": "400f9bc1",
   "metadata": {},
   "outputs": [],
   "source": []
  },
  {
   "cell_type": "code",
   "execution_count": null,
   "id": "438a263d",
   "metadata": {},
   "outputs": [],
   "source": []
  },
  {
   "cell_type": "code",
   "execution_count": null,
   "id": "5486fa48",
   "metadata": {},
   "outputs": [],
   "source": [
    "# 입력 특징의 크기가 4이고 출력 특징의 크기가 2인 선형 모델을 정의합니다."
   ]
  },
  {
   "cell_type": "code",
   "execution_count": null,
   "id": "12141a4a",
   "metadata": {},
   "outputs": [],
   "source": [
    "# 손실 함수로 평균 제곱 오차(MSE)를 정의합니다.\n",
    "# 모델의 매개변수를 최적화하기 위해 확률적 경사 하강법(SGD) 옵티마이저를 정의합니다.\n",
    "# 학습률(lr)은 1e-4로 설정합니다."
   ]
  },
  {
   "cell_type": "code",
   "execution_count": null,
   "id": "83ffb026",
   "metadata": {},
   "outputs": [],
   "source": []
  },
  {
   "cell_type": "code",
   "execution_count": null,
   "id": "cdc5641b",
   "metadata": {},
   "outputs": [],
   "source": [
    "# 모델에 전체 입력 데이터를 전달하여 예측값(preds)을 얻습니다.\n",
    "# 예측값(preds)과 실제 타겟값(targets)을 비교하여 손실(loss)을 계산합니다."
   ]
  },
  {
   "cell_type": "code",
   "execution_count": null,
   "id": "22cf013a",
   "metadata": {},
   "outputs": [],
   "source": [
    "# Predictions & target 비교"
   ]
  },
  {
   "cell_type": "code",
   "execution_count": null,
   "id": "72eaeeab",
   "metadata": {},
   "outputs": [],
   "source": []
  }
 ],
 "metadata": {
  "accelerator": "GPU",
  "colab": {
   "gpuType": "T4",
   "provenance": []
  },
  "kernelspec": {
   "display_name": "Python 3 (ipykernel)",
   "language": "python",
   "name": "python3"
  },
  "language_info": {
   "codemirror_mode": {
    "name": "ipython",
    "version": 3
   },
   "file_extension": ".py",
   "mimetype": "text/x-python",
   "name": "python",
   "nbconvert_exporter": "python",
   "pygments_lexer": "ipython3",
   "version": "3.9.7"
  }
 },
 "nbformat": 4,
 "nbformat_minor": 5
}
